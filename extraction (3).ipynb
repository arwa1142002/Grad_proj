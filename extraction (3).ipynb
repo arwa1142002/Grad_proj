{
  "nbformat": 4,
  "nbformat_minor": 0,
  "metadata": {
    "colab": {
      "provenance": []
    },
    "kernelspec": {
      "name": "python3",
      "display_name": "Python 3"
    },
    "language_info": {
      "name": "python"
    }
  },
  "cells": [
    {
      "cell_type": "code",
      "source": [
        "import xml.etree.ElementTree as ET\n",
        "import csv\n",
        "\n",
        "# Parse the XML data\n",
        "tree = ET.parse('/content/data.xml')\n",
        "root = tree.getroot()\n",
        "\n",
        "# Extract 'patient id', 'pathological_case', and 'symptoms' for each patient\n",
        "patient_data = []\n",
        "for patient in root.findall('patient'):\n",
        "    patient_id = patient.get('id')\n",
        "    pathological_case = patient.find('follow_up_notes/pathological_case').text\n",
        "    symptoms = [symptom.text for symptom in patient.findall('follow_up_notes/symptoms/symptom')]\n",
        "\n",
        "    patient_data.append({'patient_id': patient_id, 'symptoms': ', '.join(symptoms)})\n",
        "\n",
        "# Display or save the extracted data as required\n",
        "for data in patient_data:\n",
        "    print(f\"Patient ID: {data['patient_id']}, Symptoms: {data['symptoms']}\")\n",
        "\n",
        "# To save the data to a CSV file\n",
        "with open('patient_data.csv', 'w', newline='') as csvfile:\n",
        "    fieldnames = ['patient_id', 'symptoms']\n",
        "    writer = csv.DictWriter(csvfile, fieldnames=fieldnames)\n",
        "\n",
        "    writer.writeheader()\n",
        "    for data in patient_data:\n",
        "        writer.writerow(data)\n"
      ],
      "metadata": {
        "colab": {
          "base_uri": "https://localhost:8080/"
        },
        "id": "RiuYUfgw_0zn",
        "outputId": "452a4985-bd74-449f-8bf9-ebe0cb83226c"
      },
      "execution_count": null,
      "outputs": [
        {
          "output_type": "stream",
          "name": "stdout",
          "text": [
            "Patient ID: p1, Symptoms: Abdominal pain or tenderness, especially in the upper right part, Enlarged liver or palpable mass in the abdomen, Jaundice, Ascites and Swelling in the abdomen or legs, Easy bruising or bleeding\n",
            "Patient ID: p2, Symptoms: Jaundice, Unexplained weight loss, Fever, Abdominal mass or swelling, Enlarged liver\n",
            "Patient ID: p3, Symptoms: Often asymptomatic or mild symptoms, Abdominal pain, especially in the upper right part, Nausea and vomiting, Loss of appetite\n",
            "Patient ID: p4, Symptoms: Abdominal pain or tenderness, especially in the upper right part, Enlarged liver or palpable mass in the abdomen, Jaundice, Ascites and Swelling in the abdomen or legs, Easy bruising or bleeding\n",
            "Patient ID: p5, Symptoms: Jaundice, Fever, Abdominal mass or swelling\n",
            "Patient ID: p6, Symptoms: No specific symptoms related to liver cancer\n",
            "Patient ID: p7, Symptoms: No specific symptoms related to liver cancer\n",
            "Patient ID: p8, Symptoms: No specific symptoms related to liver cancer\n",
            "Patient ID: p9, Symptoms: No specific symptoms related to liver cancer\n",
            "Patient ID: p10, Symptoms: No specific symptoms related to liver cancer\n"
          ]
        }
      ]
    }
  ]
}